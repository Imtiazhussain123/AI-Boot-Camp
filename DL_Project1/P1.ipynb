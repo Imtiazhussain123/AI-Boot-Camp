{
  "nbformat": 4,
  "nbformat_minor": 0,
  "metadata": {
    "colab": {
      "name": "P1.ipynb",
      "version": "0.3.2",
      "views": {},
      "default_view": {},
      "provenance": [],
      "collapsed_sections": []
    },
    "kernelspec": {
      "name": "python3",
      "display_name": "Python 3"
    },
    "accelerator": "GPU"
  },
  "cells": [
    {
      "metadata": {
        "id": "E2phiq3QuiU8",
        "colab_type": "code",
        "colab": {
          "autoexec": {
            "startup": false,
            "wait_interval": 0
          },
          "base_uri": "https://localhost:8080/",
          "height": 35
        },
        "outputId": "65ff858a-1adf-4898-910d-0ceb1963689f",
        "executionInfo": {
          "status": "ok",
          "timestamp": 1531302831560,
          "user_tz": -300,
          "elapsed": 8669,
          "user": {
            "displayName": "Imtiaz Hussain",
            "photoUrl": "https://lh3.googleusercontent.com/a/default-user=s128",
            "userId": "111803115818273244172"
          }
        }
      },
      "cell_type": "code",
      "source": [
        "import numpy as np\n",
        "import pandas as pd\n",
        "from keras import models\n",
        "from keras.models import Sequential\n",
        "from keras.layers import Dense\n",
        "from keras.wrappers.scikit_learn import KerasClassifier\n",
        "from sklearn.model_selection import cross_val_score\n",
        "from sklearn.preprocessing import LabelEncoder\n",
        "from sklearn.model_selection import StratifiedKFold\n",
        "from sklearn.preprocessing import StandardScaler\n",
        "from sklearn.pipeline import Pipeline\n",
        "\n",
        "# import all necessary libraries which are going to be use in binary classification"
      ],
      "execution_count": 3,
      "outputs": [
        {
          "output_type": "stream",
          "text": [
            "Using TensorFlow backend.\n"
          ],
          "name": "stderr"
        }
      ]
    },
    {
      "metadata": {
        "id": "HwVkaLA0umWg",
        "colab_type": "code",
        "colab": {
          "autoexec": {
            "startup": false,
            "wait_interval": 0
          },
          "base_uri": "https://localhost:8080/",
          "height": 37
        },
        "outputId": "97a866ea-9059-461a-b19c-191d5d2cd6f9",
        "executionInfo": {
          "status": "ok",
          "timestamp": 1531302835063,
          "user_tz": -300,
          "elapsed": 865,
          "user": {
            "displayName": "Imtiaz Hussain",
            "photoUrl": "https://lh3.googleusercontent.com/a/default-user=s128",
            "userId": "111803115818273244172"
          }
        }
      },
      "cell_type": "code",
      "source": [
        "seed = 7\n",
        "np.random.seed(seed)\n"
      ],
      "execution_count": 4,
      "outputs": []
    },
    {
      "metadata": {
        "id": "g83TzLXCut5u",
        "colab_type": "code",
        "colab": {
          "autoexec": {
            "startup": false,
            "wait_interval": 0
          },
          "base_uri": "https://localhost:8080/",
          "height": 411
        },
        "outputId": "4bf4e481-d71f-4405-bd6b-f9e44e30294a",
        "executionInfo": {
          "status": "ok",
          "timestamp": 1531302844931,
          "user_tz": -300,
          "elapsed": 8296,
          "user": {
            "displayName": "Imtiaz Hussain",
            "photoUrl": "https://lh3.googleusercontent.com/a/default-user=s128",
            "userId": "111803115818273244172"
          }
        }
      },
      "cell_type": "code",
      "source": [
        "import io \n",
        "from google.colab import files\n",
        "dataFile = files.upload()\n",
        "df = pd.read_csv(io.StringIO(dataFile['sonar.csv'].decode('utf-8')))\n",
        "df\n",
        "dataset = df.values\n",
        "X = dataset[:,0:60].astype(float)\n",
        "Y = dataset[:,60]\n",
        "print(X)\n",
        "print(Y)"
      ],
      "execution_count": 5,
      "outputs": [
        {
          "output_type": "display_data",
          "data": {
            "text/html": [
              "\n",
              "     <input type=\"file\" id=\"files-3eee0d6a-d112-410c-85eb-5ae06fb07106\" name=\"files[]\" multiple disabled />\n",
              "     <output id=\"result-3eee0d6a-d112-410c-85eb-5ae06fb07106\">\n",
              "      Upload widget is only available when the cell has been executed in the\n",
              "      current browser session. Please rerun this cell to enable.\n",
              "      </output>\n",
              "      <script src=\"/nbextensions/google.colab/files.js\"></script> "
            ],
            "text/plain": [
              "<IPython.core.display.HTML object>"
            ]
          },
          "metadata": {
            "tags": []
          }
        },
        {
          "output_type": "stream",
          "text": [
            "Saving sonar.csv to sonar.csv\n",
            "[[0.0453 0.0523 0.0843 ... 0.0049 0.0052 0.0044]\n",
            " [0.0262 0.0582 0.1099 ... 0.0164 0.0095 0.0078]\n",
            " [0.01   0.0171 0.0623 ... 0.0044 0.004  0.0117]\n",
            " ...\n",
            " [0.0522 0.0437 0.018  ... 0.0138 0.0077 0.0031]\n",
            " [0.0303 0.0353 0.049  ... 0.0079 0.0036 0.0048]\n",
            " [0.026  0.0363 0.0136 ... 0.0036 0.0061 0.0115]]\n",
            "['R' 'R' 'R' 'R' 'R' 'R' 'R' 'R' 'R' 'R' 'R' 'R' 'R' 'R' 'R' 'R' 'R' 'R'\n",
            " 'R' 'R' 'R' 'R' 'R' 'R' 'R' 'R' 'R' 'R' 'R' 'R' 'R' 'R' 'R' 'R' 'R' 'R'\n",
            " 'R' 'R' 'R' 'R' 'R' 'R' 'R' 'R' 'R' 'R' 'R' 'R' 'R' 'R' 'R' 'R' 'R' 'R'\n",
            " 'R' 'R' 'R' 'R' 'R' 'R' 'R' 'R' 'R' 'R' 'R' 'R' 'R' 'R' 'R' 'R' 'R' 'R'\n",
            " 'R' 'R' 'R' 'R' 'R' 'R' 'R' 'R' 'R' 'R' 'R' 'R' 'R' 'R' 'R' 'R' 'R' 'R'\n",
            " 'R' 'R' 'R' 'R' 'R' 'R' 'M' 'M' 'M' 'M' 'M' 'M' 'M' 'M' 'M' 'M' 'M' 'M'\n",
            " 'M' 'M' 'M' 'M' 'M' 'M' 'M' 'M' 'M' 'M' 'M' 'M' 'M' 'M' 'M' 'M' 'M' 'M'\n",
            " 'M' 'M' 'M' 'M' 'M' 'M' 'M' 'M' 'M' 'M' 'M' 'M' 'M' 'M' 'M' 'M' 'M' 'M'\n",
            " 'M' 'M' 'M' 'M' 'M' 'M' 'M' 'M' 'M' 'M' 'M' 'M' 'M' 'M' 'M' 'M' 'M' 'M'\n",
            " 'M' 'M' 'M' 'M' 'M' 'M' 'M' 'M' 'M' 'M' 'M' 'M' 'M' 'M' 'M' 'M' 'M' 'M'\n",
            " 'M' 'M' 'M' 'M' 'M' 'M' 'M' 'M' 'M' 'M' 'M' 'M' 'M' 'M' 'M' 'M' 'M' 'M'\n",
            " 'M' 'M' 'M' 'M' 'M' 'M' 'M' 'M' 'M']\n"
          ],
          "name": "stdout"
        }
      ]
    },
    {
      "metadata": {
        "id": "AhZilctXvmdd",
        "colab_type": "code",
        "colab": {
          "autoexec": {
            "startup": false,
            "wait_interval": 0
          },
          "base_uri": "https://localhost:8080/",
          "height": 124
        },
        "outputId": "19a5a5b4-09fd-46fa-a4ac-5f534e249497",
        "executionInfo": {
          "status": "ok",
          "timestamp": 1531302855807,
          "user_tz": -300,
          "elapsed": 2398,
          "user": {
            "displayName": "Imtiaz Hussain",
            "photoUrl": "https://lh3.googleusercontent.com/a/default-user=s128",
            "userId": "111803115818273244172"
          }
        }
      },
      "cell_type": "code",
      "source": [
        "encoder = LabelEncoder()\n",
        "encoder.fit(Y)\n",
        "encoded_Y = encoder.transform(Y)\n",
        "# 1 is for Rock \n",
        "# 0 is for Mine\n",
        "print(encoded_Y)"
      ],
      "execution_count": 6,
      "outputs": [
        {
          "output_type": "stream",
          "text": [
            "[1 1 1 1 1 1 1 1 1 1 1 1 1 1 1 1 1 1 1 1 1 1 1 1 1 1 1 1 1 1 1 1 1 1 1 1 1\n",
            " 1 1 1 1 1 1 1 1 1 1 1 1 1 1 1 1 1 1 1 1 1 1 1 1 1 1 1 1 1 1 1 1 1 1 1 1 1\n",
            " 1 1 1 1 1 1 1 1 1 1 1 1 1 1 1 1 1 1 1 1 1 1 0 0 0 0 0 0 0 0 0 0 0 0 0 0 0\n",
            " 0 0 0 0 0 0 0 0 0 0 0 0 0 0 0 0 0 0 0 0 0 0 0 0 0 0 0 0 0 0 0 0 0 0 0 0 0\n",
            " 0 0 0 0 0 0 0 0 0 0 0 0 0 0 0 0 0 0 0 0 0 0 0 0 0 0 0 0 0 0 0 0 0 0 0 0 0\n",
            " 0 0 0 0 0 0 0 0 0 0 0 0 0 0 0 0 0 0 0 0 0 0]\n"
          ],
          "name": "stdout"
        }
      ]
    },
    {
      "metadata": {
        "id": "HNJWTDyVuvAY",
        "colab_type": "code",
        "colab": {
          "autoexec": {
            "startup": false,
            "wait_interval": 0
          },
          "base_uri": "https://localhost:8080/",
          "height": 37
        },
        "outputId": "ca145b3f-8522-4c98-82c8-3815251dd2d0",
        "executionInfo": {
          "status": "ok",
          "timestamp": 1531302863188,
          "user_tz": -300,
          "elapsed": 1105,
          "user": {
            "displayName": "Imtiaz Hussain",
            "photoUrl": "https://lh3.googleusercontent.com/a/default-user=s128",
            "userId": "111803115818273244172"
          }
        }
      },
      "cell_type": "code",
      "source": [
        "def create_baseline():\n",
        "    #create model\n",
        "    model = Sequential()\n",
        "    model.add(Dense(60, input_dim=60, kernel_initializer='normal', activation='relu'))\n",
        "    model.add(Dense(1, kernel_initializer='normal', activation='sigmoid'))\n",
        "    # Compile model\n",
        "    model.compile(loss='binary_crossentropy', optimizer='adam', metrics=['accuracy'])\n",
        "    return model"
      ],
      "execution_count": 7,
      "outputs": []
    },
    {
      "metadata": {
        "id": "WXyiRhDQviAD",
        "colab_type": "code",
        "colab": {
          "autoexec": {
            "startup": false,
            "wait_interval": 0
          },
          "base_uri": "https://localhost:8080/",
          "height": 35
        },
        "outputId": "80b07244-aaac-44b1-dcfa-6b8708985614",
        "executionInfo": {
          "status": "ok",
          "timestamp": 1531302776342,
          "user_tz": -300,
          "elapsed": 57325,
          "user": {
            "displayName": "Imtiaz Hussain",
            "photoUrl": "https://lh3.googleusercontent.com/a/default-user=s128",
            "userId": "111803115818273244172"
          }
        }
      },
      "cell_type": "code",
      "source": [
        "\n",
        "# evaluate model with standardized dataset\n",
        "estimator = KerasClassifier(build_fn=create_baseline, epochs=100, batch_size=5, verbose=0)\n",
        "kfold = StratifiedKFold(n_splits=10, shuffle=True, random_state=seed)\n",
        "results = cross_val_score(estimator, X, encoded_Y, cv=kfold)\n",
        "print(\"Results: %.2f%% (%.2f%%)\" % (results.mean()*100, results.std()*100))"
      ],
      "execution_count": 13,
      "outputs": [
        {
          "output_type": "stream",
          "text": [
            "Results: 82.09% (7.59%)\n"
          ],
          "name": "stdout"
        }
      ]
    },
    {
      "metadata": {
        "id": "bX2XUX1bwGD-",
        "colab_type": "code",
        "colab": {
          "autoexec": {
            "startup": false,
            "wait_interval": 0
          },
          "base_uri": "https://localhost:8080/",
          "height": 35
        },
        "outputId": "9d1bdad1-e2a5-44c9-ff2d-f5983b6955a6",
        "executionInfo": {
          "status": "ok",
          "timestamp": 1531303093688,
          "user_tz": -300,
          "elapsed": 201395,
          "user": {
            "displayName": "Imtiaz Hussain",
            "photoUrl": "https://lh3.googleusercontent.com/a/default-user=s128",
            "userId": "111803115818273244172"
          }
        }
      },
      "cell_type": "code",
      "source": [
        "# evaluate baseline model with standardized dataset\n",
        "np.random.seed(seed)\n",
        "estimators = []\n",
        "estimators.append(('standardize', StandardScaler()))\n",
        "estimators.append(('mlp', KerasClassifier(build_fn=create_baseline, epochs=100, batch_size=5, verbose=0)))\n",
        "pipeline = Pipeline(estimators)\n",
        "kfold = StratifiedKFold(n_splits=10, shuffle=True, random_state=seed)\n",
        "results = cross_val_score(pipeline, X, encoded_Y, cv=kfold)\n",
        "print(\"Standardized: %.2f%% (%.2f%%)\" % (results.mean()*100, results.std()*100))"
      ],
      "execution_count": 8,
      "outputs": [
        {
          "output_type": "stream",
          "text": [
            "Standardized: 85.54% (4.17%)\n"
          ],
          "name": "stdout"
        }
      ]
    },
    {
      "metadata": {
        "id": "AGxZJbwVw9LP",
        "colab_type": "code",
        "colab": {
          "autoexec": {
            "startup": false,
            "wait_interval": 0
          },
          "base_uri": "https://localhost:8080/",
          "height": 35
        },
        "outputId": "d900d6d7-02ea-4cf9-cad8-18991685b584",
        "executionInfo": {
          "status": "ok",
          "timestamp": 1531303303615,
          "user_tz": -300,
          "elapsed": 207372,
          "user": {
            "displayName": "Imtiaz Hussain",
            "photoUrl": "https://lh3.googleusercontent.com/a/default-user=s128",
            "userId": "111803115818273244172"
          }
        }
      },
      "cell_type": "code",
      "source": [
        "def create_smaller():\n",
        "    # create model\n",
        "    model = Sequential()\n",
        "    model.add(Dense(30, input_dim=60, kernel_initializer='normal', activation='relu'))\n",
        "    model.add(Dense(1, kernel_initializer='normal', activation='sigmoid'))\n",
        "    # Compile model\n",
        "    model.compile(loss='binary_crossentropy', optimizer='adam', metrics=['accuracy'])\n",
        "    return model\n",
        "estimators = []\n",
        "estimators.append(('standardize', StandardScaler()))\n",
        "estimators.append(('mlp', KerasClassifier(build_fn=create_smaller, epochs=100, batch_size=5, verbose=0)))\n",
        "pipeline = Pipeline(estimators)\n",
        "kfold = StratifiedKFold(n_splits=10, shuffle=True, random_state=seed)\n",
        "results = cross_val_score(pipeline, X, encoded_Y, cv=kfold)\n",
        "print(\"Smaller: %.2f%% (%.2f%%)\" % (results.mean()*100, results.std()*100))"
      ],
      "execution_count": 9,
      "outputs": [
        {
          "output_type": "stream",
          "text": [
            "Smaller: 85.52% (5.23%)\n"
          ],
          "name": "stdout"
        }
      ]
    },
    {
      "metadata": {
        "id": "xEqncXKwxLS_",
        "colab_type": "code",
        "colab": {
          "autoexec": {
            "startup": false,
            "wait_interval": 0
          },
          "base_uri": "https://localhost:8080/",
          "height": 35
        },
        "outputId": "0e8e02bc-9cc4-4112-8441-59bbab5783cd",
        "executionInfo": {
          "status": "ok",
          "timestamp": 1531303581332,
          "user_tz": -300,
          "elapsed": 277685,
          "user": {
            "displayName": "Imtiaz Hussain",
            "photoUrl": "https://lh3.googleusercontent.com/a/default-user=s128",
            "userId": "111803115818273244172"
          }
        }
      },
      "cell_type": "code",
      "source": [
        "# larger model\n",
        "def create_larger():\n",
        "    # create model\n",
        "    model = Sequential()\n",
        "    model.add(Dense(60, input_dim=60, kernel_initializer='normal', activation='relu'))\n",
        "    model.add(Dense(30, kernel_initializer='normal', activation='relu'))\n",
        "    model.add(Dense(1, kernel_initializer='normal', activation='sigmoid'))\n",
        "    # Compile model\n",
        "    model.compile(loss='binary_crossentropy', optimizer='adam', metrics=['accuracy'])\n",
        "    return model\n",
        "estimators = []\n",
        "estimators.append(('standardize', StandardScaler()))\n",
        "estimators.append(('mlp', KerasClassifier(build_fn=create_larger, epochs=100, batch_size=5, verbose=0)))\n",
        "pipeline = Pipeline(estimators)\n",
        "kfold = StratifiedKFold(n_splits=10, shuffle=True, random_state=seed)\n",
        "results = cross_val_score(pipeline, X, encoded_Y, cv=kfold)\n",
        "print(\"Larger: %.2f%% (%.2f%%)\" % (results.mean()*100, results.std()*100))"
      ],
      "execution_count": 10,
      "outputs": [
        {
          "output_type": "stream",
          "text": [
            "Larger: 86.97% (4.75%)\n"
          ],
          "name": "stdout"
        }
      ]
    },
    {
      "metadata": {
        "id": "bZvvFFCoxR-v",
        "colab_type": "code",
        "colab": {
          "autoexec": {
            "startup": false,
            "wait_interval": 0
          },
          "base_uri": "https://localhost:8080/",
          "height": 35
        },
        "outputId": "8adc0474-26f9-4115-b23b-6894be533917",
        "executionInfo": {
          "status": "ok",
          "timestamp": 1531307398984,
          "user_tz": -300,
          "elapsed": 601621,
          "user": {
            "displayName": "Imtiaz Hussain",
            "photoUrl": "https://lh3.googleusercontent.com/a/default-user=s128",
            "userId": "111803115818273244172"
          }
        }
      },
      "cell_type": "code",
      "source": [
        "#added_more_layers\n",
        "def add_layers():\n",
        "    # create model\n",
        "    model = Sequential()\n",
        "    model.add(Dense(60, input_dim=60, kernel_initializer='normal', activation='relu'))\n",
        "    model.add(Dense(30, kernel_initializer='normal', activation='relu'))\n",
        "    #added more layers\n",
        "    model.add(Dense(30, kernel_initializer='normal', activation='relu'))\n",
        "    model.add(Dense(15, kernel_initializer='normal', activation='relu'))\n",
        "    model.add(Dense(1, kernel_initializer='normal', activation='sigmoid'))\n",
        "    # Compile model\n",
        "    model.compile(loss='binary_crossentropy', optimizer='adam', metrics=['accuracy'])\n",
        "    return model\n",
        "estimators = []\n",
        "estimators.append(('standardize', StandardScaler()))\n",
        "estimators.append(('mlp', KerasClassifier(build_fn=add_layers, epochs=100, batch_size=5, verbose=0)))\n",
        "pipeline = Pipeline(estimators)\n",
        "kfold = StratifiedKFold(n_splits=10, shuffle=True, random_state=seed)\n",
        "results = cross_val_score(pipeline, X, encoded_Y, cv=kfold)\n",
        "print(\"add_layers: %.2f%% (%.2f%%)\" % (results.mean()*100, results.std()*100))"
      ],
      "execution_count": 15,
      "outputs": [
        {
          "output_type": "stream",
          "text": [
            "add_layers: 87.02% (5.66%)\n"
          ],
          "name": "stdout"
        }
      ]
    },
    {
      "metadata": {
        "id": "1CWfAcr9xXpv",
        "colab_type": "code",
        "colab": {
          "autoexec": {
            "startup": false,
            "wait_interval": 0
          },
          "base_uri": "https://localhost:8080/",
          "height": 35
        },
        "outputId": "b2d4ee75-6712-4036-f07b-f10bbaad440e",
        "executionInfo": {
          "status": "ok",
          "timestamp": 1531308725526,
          "user_tz": -300,
          "elapsed": 402081,
          "user": {
            "displayName": "Imtiaz Hussain",
            "photoUrl": "https://lh3.googleusercontent.com/a/default-user=s128",
            "userId": "111803115818273244172"
          }
        }
      },
      "cell_type": "code",
      "source": [
        "#added_layers_units\n",
        "def add_layer_units():\n",
        "    # create model\n",
        "    model = Sequential()\n",
        "    model.add(Dense(60, input_dim=60, kernel_initializer='normal', activation='relu'))\n",
        "    model.add(Dense(80, kernel_initializer='normal', activation='relu'))\n",
        "    #making layers unit bigger\n",
        "    model.add(Dense(80, kernel_initializer='normal', activation='relu'))\n",
        "    model.add(Dense(35, kernel_initializer='normal', activation='relu'))\n",
        "    model.add(Dense(1, kernel_initializer='normal', activation='sigmoid'))\n",
        "    # Compile model\n",
        "    model.compile(loss='binary_crossentropy', optimizer='adam', metrics=['accuracy'])\n",
        "    return model\n",
        "estimators = []\n",
        "estimators.append(('standardize', StandardScaler()))\n",
        "estimators.append(('mlp', KerasClassifier(build_fn=add_layer_units, epochs=100, batch_size=5, verbose=0)))\n",
        "pipeline = Pipeline(estimators)\n",
        "kfold = StratifiedKFold(n_splits=10, shuffle=True, random_state=seed)\n",
        "results = cross_val_score(pipeline, X, encoded_Y, cv=kfold)\n",
        "print(\"add_layer_units: %.2f%% (%.2f%%)\" % (results.mean()*100, results.std()*100))"
      ],
      "execution_count": 16,
      "outputs": [
        {
          "output_type": "stream",
          "text": [
            "add_layer_units: 85.02% (5.76%)\n"
          ],
          "name": "stdout"
        }
      ]
    },
    {
      "metadata": {
        "id": "sbL3kUVpxc9Q",
        "colab_type": "code",
        "colab": {
          "autoexec": {
            "startup": false,
            "wait_interval": 0
          },
          "base_uri": "https://localhost:8080/",
          "height": 35
        },
        "outputId": "2e361399-796f-429b-c9f2-77fbbc551ebd",
        "executionInfo": {
          "status": "ok",
          "timestamp": 1531310459579,
          "user_tz": -300,
          "elapsed": 737602,
          "user": {
            "displayName": "Imtiaz Hussain",
            "photoUrl": "https://lh3.googleusercontent.com/a/default-user=s128",
            "userId": "111803115818273244172"
          }
        }
      },
      "cell_type": "code",
      "source": [
        "# added_more_epochs\n",
        "def more_epochs():\n",
        "    # create model\n",
        "    model = Sequential()\n",
        "    model.add(Dense(60, input_dim=60, kernel_initializer='normal', activation='relu'))\n",
        "    model.add(Dense(30, kernel_initializer='normal', activation='relu'))\n",
        "    #added more layers\n",
        "    model.add(Dense(30, kernel_initializer='normal', activation='relu'))\n",
        "    model.add(Dense(15, kernel_initializer='normal', activation='relu'))\n",
        "    model.add(Dense(1, kernel_initializer='normal', activation='sigmoid'))\n",
        "    # Compile model\n",
        "    model.compile(loss='binary_crossentropy', optimizer='adam', metrics=['accuracy'])\n",
        "    return model\n",
        "estimators = []\n",
        "estimators.append(('standardize', StandardScaler()))\n",
        "#train data on more epochs \n",
        "estimators.append(('mlp', KerasClassifier(build_fn=more_epochs, epochs=200, batch_size=5, verbose=0)))\n",
        "pipeline = Pipeline(estimators)\n",
        "kfold = StratifiedKFold(n_splits=10, shuffle=True, random_state=seed)\n",
        "results = cross_val_score(pipeline, X, encoded_Y, cv=kfold)\n",
        "print(\"more_epochs: %.2f%% (%.2f%%)\" % (results.mean()*100, results.std()*100))"
      ],
      "execution_count": 17,
      "outputs": [
        {
          "output_type": "stream",
          "text": [
            "more_epochs: 83.59% (5.70%)\n"
          ],
          "name": "stdout"
        }
      ]
    },
    {
      "metadata": {
        "id": "AcWkJ4iHxiSQ",
        "colab_type": "code",
        "colab": {
          "autoexec": {
            "startup": false,
            "wait_interval": 0
          },
          "base_uri": "https://localhost:8080/",
          "height": 3590
        },
        "outputId": "ec9f5355-b971-4fc3-e362-5ccd64741a1c",
        "executionInfo": {
          "status": "ok",
          "timestamp": 1531310870382,
          "user_tz": -300,
          "elapsed": 373522,
          "user": {
            "displayName": "Imtiaz Hussain",
            "photoUrl": "https://lh3.googleusercontent.com/a/default-user=s128",
            "userId": "111803115818273244172"
          }
        }
      },
      "cell_type": "code",
      "source": [
        "from keras.layers import Input, Dense\n",
        "from keras.models import Model\n",
        "from keras.utils import to_categorical\n",
        "\n",
        "# By using functional API\n",
        "def funcational_API():\n",
        "    # Multilayer Perceptron\n",
        "    visible = Input(shape=(60,))\n",
        "    hidden1 = Dense(80, activation='relu')(visible)\n",
        "    hidden2 = Dense(75, activation='relu')(hidden1)\n",
        "    hidden3 = Dense(70, activation='relu')(hidden2)\n",
        "    output = Dense(1, activation='sigmoid')(hidden3)\n",
        "    model = Model(inputs=visible, outputs=output)\n",
        "    model.compile(optimizer='rmsprop', loss='binary_crossentropy',metrics=['accuracy'])\n",
        "    model.fit(X, encoded_Y, epochs=10, batch_size=20)\n",
        "    # summarize layers\n",
        "    #print(model.summary())\n",
        "    return model\n",
        "estimators = []\n",
        "estimators.append(('standardize', StandardScaler()))\n",
        "#train data on more epochs \n",
        "estimators.append(('mlp', KerasClassifier(build_fn=funcational_API, epochs=100, batch_size=5, verbose=0)))\n",
        "pipeline = Pipeline(estimators)\n",
        "kfold = StratifiedKFold(n_splits=10, shuffle=True, random_state=seed)\n",
        "results = cross_val_score(pipeline, X, encoded_Y, cv=kfold)\n",
        "print(\"Functional_API: %.2f%% (%.2f%%)\" % (results.mean()*100, results.std()*100))"
      ],
      "execution_count": 18,
      "outputs": [
        {
          "output_type": "stream",
          "text": [
            "Epoch 1/10\n",
            "207/207 [==============================] - 6s 30ms/step - loss: 0.6809 - acc: 0.5700\n",
            "Epoch 2/10\n",
            "207/207 [==============================] - 0s 446us/step - loss: 0.6428 - acc: 0.6425\n",
            "Epoch 3/10\n",
            "207/207 [==============================] - 0s 453us/step - loss: 0.6136 - acc: 0.6812\n",
            "Epoch 4/10\n",
            "207/207 [==============================] - 0s 451us/step - loss: 0.5606 - acc: 0.7585\n",
            "Epoch 5/10\n",
            "207/207 [==============================] - 0s 482us/step - loss: 0.5180 - acc: 0.7585\n",
            "Epoch 6/10\n",
            "207/207 [==============================] - 0s 450us/step - loss: 0.4951 - acc: 0.7633\n",
            "Epoch 7/10\n",
            "207/207 [==============================] - 0s 480us/step - loss: 0.4669 - acc: 0.8116\n",
            "Epoch 8/10\n",
            "207/207 [==============================] - 0s 452us/step - loss: 0.4313 - acc: 0.8116\n",
            "Epoch 9/10\n",
            "207/207 [==============================] - 0s 428us/step - loss: 0.4015 - acc: 0.8164\n",
            "Epoch 10/10\n",
            "207/207 [==============================] - 0s 417us/step - loss: 0.3878 - acc: 0.8309\n",
            "Epoch 1/10\n",
            "207/207 [==============================] - 6s 31ms/step - loss: 0.6853 - acc: 0.5362\n",
            "Epoch 2/10\n",
            "207/207 [==============================] - 0s 423us/step - loss: 0.6377 - acc: 0.6667\n",
            "Epoch 3/10\n",
            "207/207 [==============================] - 0s 439us/step - loss: 0.5978 - acc: 0.7005\n",
            "Epoch 4/10\n",
            "207/207 [==============================] - 0s 419us/step - loss: 0.5567 - acc: 0.7198\n",
            "Epoch 5/10\n",
            "207/207 [==============================] - 0s 451us/step - loss: 0.5247 - acc: 0.7488\n",
            "Epoch 6/10\n",
            "207/207 [==============================] - 0s 423us/step - loss: 0.5073 - acc: 0.7536\n",
            "Epoch 7/10\n",
            "207/207 [==============================] - 0s 411us/step - loss: 0.4772 - acc: 0.8068\n",
            "Epoch 8/10\n",
            "207/207 [==============================] - 0s 434us/step - loss: 0.4281 - acc: 0.8309\n",
            "Epoch 9/10\n",
            "207/207 [==============================] - 0s 479us/step - loss: 0.4162 - acc: 0.8116\n",
            "Epoch 10/10\n",
            "207/207 [==============================] - 0s 430us/step - loss: 0.4259 - acc: 0.8068\n",
            "Epoch 1/10\n",
            "207/207 [==============================] - 6s 31ms/step - loss: 0.6704 - acc: 0.5894\n",
            "Epoch 2/10\n",
            "207/207 [==============================] - 0s 455us/step - loss: 0.6187 - acc: 0.6570\n",
            "Epoch 3/10\n",
            "207/207 [==============================] - 0s 438us/step - loss: 0.5815 - acc: 0.7101\n",
            "Epoch 4/10\n",
            "207/207 [==============================] - 0s 473us/step - loss: 0.5694 - acc: 0.6667\n",
            "Epoch 5/10\n"
          ],
          "name": "stdout"
        },
        {
          "output_type": "stream",
          "text": [
            "207/207 [==============================] - 0s 435us/step - loss: 0.5526 - acc: 0.7101\n",
            "Epoch 6/10\n",
            "207/207 [==============================] - 0s 449us/step - loss: 0.5118 - acc: 0.7246\n",
            "Epoch 7/10\n",
            "207/207 [==============================] - 0s 446us/step - loss: 0.4635 - acc: 0.7778\n",
            "Epoch 8/10\n",
            "207/207 [==============================] - 0s 482us/step - loss: 0.4681 - acc: 0.7729\n",
            "Epoch 9/10\n",
            "207/207 [==============================] - 0s 436us/step - loss: 0.4861 - acc: 0.7343\n",
            "Epoch 10/10\n",
            "207/207 [==============================] - 0s 431us/step - loss: 0.4226 - acc: 0.8019\n",
            "Epoch 1/10\n",
            "207/207 [==============================] - 7s 31ms/step - loss: 0.6804 - acc: 0.5604\n",
            "Epoch 2/10\n",
            "207/207 [==============================] - 0s 443us/step - loss: 0.6482 - acc: 0.6957\n",
            "Epoch 3/10\n",
            "207/207 [==============================] - 0s 466us/step - loss: 0.6052 - acc: 0.7005\n",
            "Epoch 4/10\n",
            "207/207 [==============================] - 0s 472us/step - loss: 0.5582 - acc: 0.7488\n",
            "Epoch 5/10\n",
            "207/207 [==============================] - 0s 459us/step - loss: 0.5476 - acc: 0.6908\n",
            "Epoch 6/10\n",
            "207/207 [==============================] - 0s 452us/step - loss: 0.4958 - acc: 0.7585\n",
            "Epoch 7/10\n",
            "207/207 [==============================] - 0s 441us/step - loss: 0.4788 - acc: 0.8019\n",
            "Epoch 8/10\n",
            "207/207 [==============================] - 0s 471us/step - loss: 0.4628 - acc: 0.7585\n",
            "Epoch 9/10\n",
            "207/207 [==============================] - 0s 421us/step - loss: 0.4279 - acc: 0.8213\n",
            "Epoch 10/10\n",
            "207/207 [==============================] - 0s 428us/step - loss: 0.4303 - acc: 0.8019\n",
            "Epoch 1/10\n",
            "207/207 [==============================] - 7s 31ms/step - loss: 0.6853 - acc: 0.5411\n",
            "Epoch 2/10\n",
            "207/207 [==============================] - 0s 425us/step - loss: 0.6559 - acc: 0.6135\n",
            "Epoch 3/10\n",
            "207/207 [==============================] - 0s 426us/step - loss: 0.6231 - acc: 0.6957\n",
            "Epoch 4/10\n",
            "207/207 [==============================] - 0s 433us/step - loss: 0.5897 - acc: 0.7343\n",
            "Epoch 5/10\n",
            "207/207 [==============================] - 0s 454us/step - loss: 0.5600 - acc: 0.7633\n",
            "Epoch 6/10\n",
            "207/207 [==============================] - 0s 438us/step - loss: 0.5389 - acc: 0.7536\n",
            "Epoch 7/10\n",
            "207/207 [==============================] - 0s 428us/step - loss: 0.5150 - acc: 0.7923\n",
            "Epoch 8/10\n",
            "207/207 [==============================] - 0s 425us/step - loss: 0.4812 - acc: 0.7923\n"
          ],
          "name": "stdout"
        },
        {
          "output_type": "stream",
          "text": [
            "Epoch 9/10\n",
            "207/207 [==============================] - 0s 465us/step - loss: 0.4674 - acc: 0.7778\n",
            "Epoch 10/10\n",
            "207/207 [==============================] - 0s 415us/step - loss: 0.4473 - acc: 0.8309\n",
            "Epoch 1/10\n",
            "207/207 [==============================] - 7s 32ms/step - loss: 0.6833 - acc: 0.5652\n",
            "Epoch 2/10\n",
            "207/207 [==============================] - 0s 414us/step - loss: 0.6472 - acc: 0.6715\n",
            "Epoch 3/10\n",
            "207/207 [==============================] - 0s 452us/step - loss: 0.6108 - acc: 0.6860\n",
            "Epoch 4/10\n",
            "207/207 [==============================] - 0s 472us/step - loss: 0.5668 - acc: 0.7778\n",
            "Epoch 5/10\n",
            "207/207 [==============================] - 0s 450us/step - loss: 0.5348 - acc: 0.7536\n",
            "Epoch 6/10\n",
            "207/207 [==============================] - 0s 434us/step - loss: 0.4873 - acc: 0.8019\n",
            "Epoch 7/10\n",
            "207/207 [==============================] - 0s 422us/step - loss: 0.4741 - acc: 0.7729\n",
            "Epoch 8/10\n",
            "207/207 [==============================] - 0s 474us/step - loss: 0.4498 - acc: 0.8019\n",
            "Epoch 9/10\n",
            "207/207 [==============================] - 0s 459us/step - loss: 0.4341 - acc: 0.7971\n",
            "Epoch 10/10\n",
            "207/207 [==============================] - 0s 470us/step - loss: 0.4054 - acc: 0.8261\n",
            "Epoch 1/10\n",
            "207/207 [==============================] - 7s 32ms/step - loss: 0.6825 - acc: 0.5845\n",
            "Epoch 2/10\n",
            "207/207 [==============================] - 0s 421us/step - loss: 0.6513 - acc: 0.6377\n",
            "Epoch 3/10\n",
            "207/207 [==============================] - 0s 436us/step - loss: 0.6246 - acc: 0.6860\n",
            "Epoch 4/10\n",
            "207/207 [==============================] - 0s 449us/step - loss: 0.5858 - acc: 0.7053\n",
            "Epoch 5/10\n",
            "207/207 [==============================] - 0s 417us/step - loss: 0.5460 - acc: 0.8019\n",
            "Epoch 6/10\n",
            "207/207 [==============================] - 0s 447us/step - loss: 0.5132 - acc: 0.7874\n",
            "Epoch 7/10\n",
            "207/207 [==============================] - 0s 437us/step - loss: 0.5004 - acc: 0.7633\n",
            "Epoch 8/10\n",
            "207/207 [==============================] - 0s 460us/step - loss: 0.4469 - acc: 0.8116\n",
            "Epoch 9/10\n",
            "207/207 [==============================] - 0s 443us/step - loss: 0.4369 - acc: 0.7971\n",
            "Epoch 10/10\n",
            "207/207 [==============================] - 0s 439us/step - loss: 0.4385 - acc: 0.7729\n",
            "Epoch 1/10\n",
            "207/207 [==============================] - 7s 33ms/step - loss: 0.6605 - acc: 0.5942\n",
            "Epoch 2/10\n",
            "207/207 [==============================] - 0s 443us/step - loss: 0.6143 - acc: 0.6715\n"
          ],
          "name": "stdout"
        },
        {
          "output_type": "stream",
          "text": [
            "Epoch 3/10\n",
            "207/207 [==============================] - 0s 426us/step - loss: 0.5518 - acc: 0.7874\n",
            "Epoch 4/10\n",
            "207/207 [==============================] - 0s 408us/step - loss: 0.5295 - acc: 0.7585\n",
            "Epoch 5/10\n",
            "207/207 [==============================] - 0s 439us/step - loss: 0.4953 - acc: 0.7778\n",
            "Epoch 6/10\n",
            "207/207 [==============================] - 0s 428us/step - loss: 0.4760 - acc: 0.7826\n",
            "Epoch 7/10\n",
            "207/207 [==============================] - 0s 411us/step - loss: 0.4565 - acc: 0.7778\n",
            "Epoch 8/10\n",
            "207/207 [==============================] - 0s 420us/step - loss: 0.4237 - acc: 0.8213\n",
            "Epoch 9/10\n",
            "207/207 [==============================] - 0s 465us/step - loss: 0.4034 - acc: 0.8454\n",
            "Epoch 10/10\n",
            "207/207 [==============================] - 0s 452us/step - loss: 0.4262 - acc: 0.8164\n",
            "Epoch 1/10\n",
            "207/207 [==============================] - 7s 33ms/step - loss: 0.6787 - acc: 0.5797\n",
            "Epoch 2/10\n",
            "207/207 [==============================] - 0s 423us/step - loss: 0.6426 - acc: 0.6377\n",
            "Epoch 3/10\n",
            "207/207 [==============================] - 0s 420us/step - loss: 0.6111 - acc: 0.6715\n",
            "Epoch 4/10\n",
            "207/207 [==============================] - 0s 428us/step - loss: 0.5720 - acc: 0.6957\n",
            "Epoch 5/10\n",
            "207/207 [==============================] - 0s 444us/step - loss: 0.5306 - acc: 0.7295\n",
            "Epoch 6/10\n",
            "207/207 [==============================] - 0s 419us/step - loss: 0.5050 - acc: 0.7488\n",
            "Epoch 7/10\n",
            "207/207 [==============================] - 0s 443us/step - loss: 0.4586 - acc: 0.7874\n",
            "Epoch 8/10\n",
            "207/207 [==============================] - 0s 451us/step - loss: 0.4564 - acc: 0.7874\n",
            "Epoch 9/10\n",
            "207/207 [==============================] - 0s 462us/step - loss: 0.4299 - acc: 0.8164\n",
            "Epoch 10/10\n",
            "207/207 [==============================] - 0s 446us/step - loss: 0.4325 - acc: 0.7633\n",
            "Epoch 1/10\n",
            "207/207 [==============================] - 7s 33ms/step - loss: 0.6817 - acc: 0.5266\n",
            "Epoch 2/10\n",
            "207/207 [==============================] - 0s 430us/step - loss: 0.6582 - acc: 0.6425\n",
            "Epoch 3/10\n",
            "207/207 [==============================] - 0s 428us/step - loss: 0.6272 - acc: 0.6763\n",
            "Epoch 4/10\n",
            "207/207 [==============================] - 0s 450us/step - loss: 0.5919 - acc: 0.6957\n",
            "Epoch 5/10\n",
            "207/207 [==============================] - 0s 461us/step - loss: 0.5606 - acc: 0.7246\n",
            "Epoch 6/10\n",
            "207/207 [==============================] - 0s 455us/step - loss: 0.5168 - acc: 0.7536\n",
            "Epoch 7/10\n"
          ],
          "name": "stdout"
        },
        {
          "output_type": "stream",
          "text": [
            "207/207 [==============================] - 0s 446us/step - loss: 0.4992 - acc: 0.7826\n",
            "Epoch 8/10\n",
            "207/207 [==============================] - 0s 429us/step - loss: 0.4698 - acc: 0.7633\n",
            "Epoch 9/10\n",
            "207/207 [==============================] - 0s 460us/step - loss: 0.4367 - acc: 0.8213\n",
            "Epoch 10/10\n",
            "207/207 [==============================] - 0s 408us/step - loss: 0.4062 - acc: 0.8164\n",
            "Functional_API: 86.97% (6.76%)\n"
          ],
          "name": "stdout"
        }
      ]
    },
    {
      "metadata": {
        "id": "CyWAccsRxpSw",
        "colab_type": "code",
        "colab": {
          "autoexec": {
            "startup": false,
            "wait_interval": 0
          },
          "base_uri": "https://localhost:8080/",
          "height": 35
        },
        "outputId": "20c75722-a92d-4be5-bf2d-83ad21593345",
        "executionInfo": {
          "status": "ok",
          "timestamp": 1531311369711,
          "user_tz": -300,
          "elapsed": 8482,
          "user": {
            "displayName": "Imtiaz Hussain",
            "photoUrl": "https://lh3.googleusercontent.com/a/default-user=s128",
            "userId": "111803115818273244172"
          }
        }
      },
      "cell_type": "code",
      "source": [
        "import tensorflow as tf\n",
        "import keras\n",
        "class MyModel(tf.keras.Model):\n",
        "    \n",
        "        def __init__(self):\n",
        "            super(MyModel, self).__init__()\n",
        "            self.dense1= Dense(70, activation='relu')\n",
        "            self.dense2= Dense(50, activation='relu')\n",
        "            self.dense3 = Dense(1, activation='sigmoid')\n",
        "\n",
        "        def call(self, inputs):\n",
        "            x = self.dense1(inputs)\n",
        "            x = self.dense2(x)\n",
        "            return self.dense3(x)\n",
        "                        \n",
        "                    \n",
        "model = MyModel()\n",
        "model.compile(loss='categorical_crossentropy', optimizer='adam',   metrics=['accuracy'])\n",
        "history=model.fit(X,encoded_Y, epochs=100,batch_size=50,verbose=False)\n",
        "history_dict = history.history\n",
        "history_dict.keys()\n",
        "acc_values = history_dict['acc']\n",
        "print(\"Result: %.2f%% (%.2f%%)\" % (np.mean(acc_values)*100, np.std(acc_values)*100))\n",
        "\n"
      ],
      "execution_count": 29,
      "outputs": [
        {
          "output_type": "stream",
          "text": [
            "Result: 53.62% (0.00%)\n"
          ],
          "name": "stdout"
        }
      ]
    },
    {
      "metadata": {
        "id": "2ZDukzqmx2fA",
        "colab_type": "code",
        "colab": {
          "autoexec": {
            "startup": false,
            "wait_interval": 0
          },
          "base_uri": "https://localhost:8080/",
          "height": 195
        },
        "outputId": "5ad27a36-5bfe-4e65-c958-77fe9fbdfd10",
        "executionInfo": {
          "status": "ok",
          "timestamp": 1531311787386,
          "user_tz": -300,
          "elapsed": 380595,
          "user": {
            "displayName": "Imtiaz Hussain",
            "photoUrl": "https://lh3.googleusercontent.com/a/default-user=s128",
            "userId": "111803115818273244172"
          }
        }
      },
      "cell_type": "code",
      "source": [
        "from keras import models\n",
        "from keras import layers\n",
        "def build_model():\n",
        "    # create model\n",
        "    model = Sequential()\n",
        "    model.add(Dense(100, input_dim=60, kernel_initializer='normal' ,activation='relu'))\n",
        "    model.add(Dense(70,  kernel_initializer='normal' ,activation='relu'))\n",
        "    model.add(Dense(1,kernel_initializer='normal', activation='sigmoid'))\n",
        "    # Compile model\n",
        "    model.compile(loss='binary_crossentropy', optimizer='adam', metrics=['accuracy'])\n",
        "    \n",
        "    return model\n",
        "k=10\n",
        "num_val_samples = len(X) // k\n",
        "num_epochs = 100\n",
        "all_scores = []\n",
        "\n",
        "for i in range(k):\n",
        "    print('processing fold #', i)\n",
        "    val_data = X[i * num_val_samples: (i + 1) * num_val_samples]\n",
        "    val_targets = encoded_Y[i * num_val_samples: (i + 1) * num_val_samples]\n",
        "#     print(val_data,val_targets)\n",
        "    partial_train_data =np.concatenate([X[:i * num_val_samples],X[(i + 1) * num_val_samples:]],axis=0)\n",
        "    partial_train_targets =np.concatenate([encoded_Y[:i * num_val_samples],encoded_Y[(i + 1) * num_val_samples:]],axis=0)\n",
        "    model = build_model()\n",
        "    model.fit(partial_train_data, partial_train_targets,epochs=num_epochs, batch_size=5, verbose=0)\n",
        "    val_mse, val_mae = model.evaluate(val_data, val_targets, verbose=0)\n",
        "    all_scores.append(val_mae)"
      ],
      "execution_count": 31,
      "outputs": [
        {
          "output_type": "stream",
          "text": [
            "processing fold # 0\n",
            "processing fold # 1\n",
            "processing fold # 2\n",
            "processing fold # 3\n",
            "processing fold # 4\n",
            "processing fold # 5\n",
            "processing fold # 6\n",
            "processing fold # 7\n",
            "processing fold # 8\n",
            "processing fold # 9\n"
          ],
          "name": "stdout"
        }
      ]
    },
    {
      "metadata": {
        "id": "-JjzOy1eCOkV",
        "colab_type": "code",
        "colab": {
          "autoexec": {
            "startup": false,
            "wait_interval": 0
          },
          "base_uri": "https://localhost:8080/",
          "height": 37
        },
        "outputId": "d04a8e08-ba2c-4da2-d6d1-4d5c9004efb6",
        "executionInfo": {
          "status": "ok",
          "timestamp": 1531311946728,
          "user_tz": -300,
          "elapsed": 1518,
          "user": {
            "displayName": "Imtiaz Hussain",
            "photoUrl": "https://lh3.googleusercontent.com/a/default-user=s128",
            "userId": "111803115818273244172"
          }
        }
      },
      "cell_type": "code",
      "source": [
        "# Data Normalizing\n",
        "mean=X.mean(axis=0)\n",
        "X-=mean\n",
        "std=X.std(axis=0)\n",
        "X/=std"
      ],
      "execution_count": 32,
      "outputs": []
    },
    {
      "metadata": {
        "id": "lgF7KhoACWPd",
        "colab_type": "code",
        "colab": {
          "autoexec": {
            "startup": false,
            "wait_interval": 0
          },
          "base_uri": "https://localhost:8080/",
          "height": 212
        },
        "outputId": "86336acb-97ed-4c64-abde-a7b52a4c1c2c",
        "executionInfo": {
          "status": "ok",
          "timestamp": 1531312774685,
          "user_tz": -300,
          "elapsed": 402101,
          "user": {
            "displayName": "Imtiaz Hussain",
            "photoUrl": "https://lh3.googleusercontent.com/a/default-user=s128",
            "userId": "111803115818273244172"
          }
        }
      },
      "cell_type": "code",
      "source": [
        "from keras import models\n",
        "from keras import layers\n",
        "def build_model():\n",
        "    # create model\n",
        "    model = Sequential()\n",
        "    model.add(Dense(100, input_dim=60, kernel_initializer='normal' ,activation='relu'))\n",
        "    model.add(Dense(70,  kernel_initializer='normal' ,activation='relu'))\n",
        "    model.add(Dense(1,kernel_initializer='normal', activation='sigmoid'))\n",
        "    # Compile model\n",
        "    model.compile(loss='binary_crossentropy', optimizer='adam', metrics=['accuracy'])\n",
        "    \n",
        "    return model\n",
        "k=10\n",
        "num_val_samples = len(X) // k\n",
        "num_epochs = 100\n",
        "all_scores = []\n",
        "\n",
        "for i in range(k):\n",
        "    print('processing fold #', i)\n",
        "    val_data = X[i * num_val_samples: (i + 1) * num_val_samples]\n",
        "    val_targets = encoded_Y[i * num_val_samples: (i + 1) * num_val_samples]\n",
        "#     print(val_data,val_targets)\n",
        "    partial_train_data = np.concatenate([X[:i * num_val_samples],X[(i + 1) * num_val_samples:]],axis=0)\n",
        "    partial_train_targets = np.concatenate([encoded_Y[:i * num_val_samples],encoded_Y[(i + 1) * num_val_samples:]],axis=0)\n",
        "    model = build_model()\n",
        "    model.fit(partial_train_data, partial_train_targets,epochs=num_epochs, batch_size=5, verbose=0)\n",
        "    val_mse, val_mae = model.evaluate(val_data, val_targets, verbose=0)\n",
        "    all_scores.append(val_mae)\n",
        "print(\"Result: %.2f%% (%.2f%%)\" % (np.mean(all_scores)*100, np.std(all_scores)*100))"
      ],
      "execution_count": 35,
      "outputs": [
        {
          "output_type": "stream",
          "text": [
            "processing fold # 0\n",
            "processing fold # 1\n",
            "processing fold # 2\n",
            "processing fold # 3\n",
            "processing fold # 4\n",
            "processing fold # 5\n",
            "processing fold # 6\n",
            "processing fold # 7\n",
            "processing fold # 8\n",
            "processing fold # 9\n",
            "Result: 65.00% (17.61%)\n"
          ],
          "name": "stdout"
        }
      ]
    },
    {
      "metadata": {
        "id": "_QjLo6FSThI5",
        "colab_type": "code",
        "colab": {
          "autoexec": {
            "startup": false,
            "wait_interval": 0
          }
        }
      },
      "cell_type": "code",
      "source": [
        ""
      ],
      "execution_count": 0,
      "outputs": []
    }
  ]
}