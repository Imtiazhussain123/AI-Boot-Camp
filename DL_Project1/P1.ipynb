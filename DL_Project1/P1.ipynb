{
  "nbformat": 4,
  "nbformat_minor": 0,
  "metadata": {
    "colab": {
      "name": "P1.ipynb",
      "version": "0.3.2",
      "views": {},
      "default_view": {},
      "provenance": [],
      "collapsed_sections": []
    },
    "kernelspec": {
      "name": "python3",
      "display_name": "Python 3"
    },
    "accelerator": "GPU"
  },
  "cells": [
    {
      "metadata": {
        "id": "E2phiq3QuiU8",
        "colab_type": "code",
        "colab": {
          "autoexec": {
            "startup": false,
            "wait_interval": 0
          }
        }
      },
      "cell_type": "code",
      "source": [
        "import numpy as np\n",
        "import pandas as pd\n",
        "from keras import models\n",
        "from keras.models import Sequential\n",
        "from keras.layers import Dense\n",
        "from keras.wrappers.scikit_learn import KerasClassifier\n",
        "from sklearn.model_selection import cross_val_score\n",
        "from sklearn.preprocessing import LabelEncoder\n",
        "from sklearn.model_selection import StratifiedKFold\n",
        "from sklearn.preprocessing import StandardScaler\n",
        "from sklearn.pipeline import Pipeline\n",
        "\n",
        "# import all necessary libraries which are going to be use in binary classification"
      ],
      "execution_count": 0,
      "outputs": []
    },
    {
      "metadata": {
        "id": "HwVkaLA0umWg",
        "colab_type": "code",
        "colab": {
          "autoexec": {
            "startup": false,
            "wait_interval": 0
          }
        }
      },
      "cell_type": "code",
      "source": [
        "seed = 7\n",
        "np.random.seed(seed)\n"
      ],
      "execution_count": 0,
      "outputs": []
    },
    {
      "metadata": {
        "id": "g83TzLXCut5u",
        "colab_type": "code",
        "colab": {
          "autoexec": {
            "startup": false,
            "wait_interval": 0
          },
          "resources": {
            "http://localhost:8080/nbextensions/google.colab/files.js": {
              "data": "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",
              "ok": true,
              "headers": [
                [
                  "content-type",
                  "application/javascript"
                ]
              ],
              "status": 200,
              "status_text": ""
            }
          },
          "base_uri": "https://localhost:8080/",
          "height": 411
        },
        "outputId": "52551638-d9a8-4e4a-94a2-f097aec6cf22",
        "executionInfo": {
          "status": "ok",
          "timestamp": 1531337826895,
          "user_tz": -300,
          "elapsed": 13571,
          "user": {
            "displayName": "Imtiaz Hussain",
            "photoUrl": "https://lh3.googleusercontent.com/a/default-user=s128",
            "userId": "111803115818273244172"
          }
        }
      },
      "cell_type": "code",
      "source": [
        "import io \n",
        "from google.colab import files\n",
        "dataFile = files.upload()\n",
        "df = pd.read_csv(io.StringIO(dataFile['sonar.csv'].decode('utf-8')))\n",
        "df\n",
        "dataset = df.values\n",
        "X = dataset[:,0:60].astype(float)\n",
        "Y = dataset[:,60]\n",
        "print(X)\n",
        "print(Y)"
      ],
      "execution_count": 4,
      "outputs": [
        {
          "output_type": "display_data",
          "data": {
            "text/html": [
              "\n",
              "     <input type=\"file\" id=\"files-3bd02a3e-6182-403d-bdc1-0f1f31893ecf\" name=\"files[]\" multiple disabled />\n",
              "     <output id=\"result-3bd02a3e-6182-403d-bdc1-0f1f31893ecf\">\n",
              "      Upload widget is only available when the cell has been executed in the\n",
              "      current browser session. Please rerun this cell to enable.\n",
              "      </output>\n",
              "      <script src=\"/nbextensions/google.colab/files.js\"></script> "
            ],
            "text/plain": [
              "<IPython.core.display.HTML object>"
            ]
          },
          "metadata": {
            "tags": []
          }
        },
        {
          "output_type": "stream",
          "text": [
            "Saving sonar.csv to sonar.csv\n",
            "[[0.0453 0.0523 0.0843 ... 0.0049 0.0052 0.0044]\n",
            " [0.0262 0.0582 0.1099 ... 0.0164 0.0095 0.0078]\n",
            " [0.01   0.0171 0.0623 ... 0.0044 0.004  0.0117]\n",
            " ...\n",
            " [0.0522 0.0437 0.018  ... 0.0138 0.0077 0.0031]\n",
            " [0.0303 0.0353 0.049  ... 0.0079 0.0036 0.0048]\n",
            " [0.026  0.0363 0.0136 ... 0.0036 0.0061 0.0115]]\n",
            "['R' 'R' 'R' 'R' 'R' 'R' 'R' 'R' 'R' 'R' 'R' 'R' 'R' 'R' 'R' 'R' 'R' 'R'\n",
            " 'R' 'R' 'R' 'R' 'R' 'R' 'R' 'R' 'R' 'R' 'R' 'R' 'R' 'R' 'R' 'R' 'R' 'R'\n",
            " 'R' 'R' 'R' 'R' 'R' 'R' 'R' 'R' 'R' 'R' 'R' 'R' 'R' 'R' 'R' 'R' 'R' 'R'\n",
            " 'R' 'R' 'R' 'R' 'R' 'R' 'R' 'R' 'R' 'R' 'R' 'R' 'R' 'R' 'R' 'R' 'R' 'R'\n",
            " 'R' 'R' 'R' 'R' 'R' 'R' 'R' 'R' 'R' 'R' 'R' 'R' 'R' 'R' 'R' 'R' 'R' 'R'\n",
            " 'R' 'R' 'R' 'R' 'R' 'R' 'M' 'M' 'M' 'M' 'M' 'M' 'M' 'M' 'M' 'M' 'M' 'M'\n",
            " 'M' 'M' 'M' 'M' 'M' 'M' 'M' 'M' 'M' 'M' 'M' 'M' 'M' 'M' 'M' 'M' 'M' 'M'\n",
            " 'M' 'M' 'M' 'M' 'M' 'M' 'M' 'M' 'M' 'M' 'M' 'M' 'M' 'M' 'M' 'M' 'M' 'M'\n",
            " 'M' 'M' 'M' 'M' 'M' 'M' 'M' 'M' 'M' 'M' 'M' 'M' 'M' 'M' 'M' 'M' 'M' 'M'\n",
            " 'M' 'M' 'M' 'M' 'M' 'M' 'M' 'M' 'M' 'M' 'M' 'M' 'M' 'M' 'M' 'M' 'M' 'M'\n",
            " 'M' 'M' 'M' 'M' 'M' 'M' 'M' 'M' 'M' 'M' 'M' 'M' 'M' 'M' 'M' 'M' 'M' 'M'\n",
            " 'M' 'M' 'M' 'M' 'M' 'M' 'M' 'M' 'M']\n"
          ],
          "name": "stdout"
        }
      ]
    },
    {
      "metadata": {
        "id": "AhZilctXvmdd",
        "colab_type": "code",
        "colab": {
          "autoexec": {
            "startup": false,
            "wait_interval": 0
          },
          "base_uri": "https://localhost:8080/",
          "height": 124
        },
        "outputId": "1be32232-5180-4405-e63e-3f4318644f8b",
        "executionInfo": {
          "status": "ok",
          "timestamp": 1531337829179,
          "user_tz": -300,
          "elapsed": 1376,
          "user": {
            "displayName": "Imtiaz Hussain",
            "photoUrl": "https://lh3.googleusercontent.com/a/default-user=s128",
            "userId": "111803115818273244172"
          }
        }
      },
      "cell_type": "code",
      "source": [
        "encoder = LabelEncoder()\n",
        "encoder.fit(Y)\n",
        "encoded_Y = encoder.transform(Y)\n",
        "# 1 is for Rock \n",
        "# 0 is for Mine\n",
        "print(encoded_Y)"
      ],
      "execution_count": 5,
      "outputs": [
        {
          "output_type": "stream",
          "text": [
            "[1 1 1 1 1 1 1 1 1 1 1 1 1 1 1 1 1 1 1 1 1 1 1 1 1 1 1 1 1 1 1 1 1 1 1 1 1\n",
            " 1 1 1 1 1 1 1 1 1 1 1 1 1 1 1 1 1 1 1 1 1 1 1 1 1 1 1 1 1 1 1 1 1 1 1 1 1\n",
            " 1 1 1 1 1 1 1 1 1 1 1 1 1 1 1 1 1 1 1 1 1 1 0 0 0 0 0 0 0 0 0 0 0 0 0 0 0\n",
            " 0 0 0 0 0 0 0 0 0 0 0 0 0 0 0 0 0 0 0 0 0 0 0 0 0 0 0 0 0 0 0 0 0 0 0 0 0\n",
            " 0 0 0 0 0 0 0 0 0 0 0 0 0 0 0 0 0 0 0 0 0 0 0 0 0 0 0 0 0 0 0 0 0 0 0 0 0\n",
            " 0 0 0 0 0 0 0 0 0 0 0 0 0 0 0 0 0 0 0 0 0 0]\n"
          ],
          "name": "stdout"
        }
      ]
    },
    {
      "metadata": {
        "id": "HNJWTDyVuvAY",
        "colab_type": "code",
        "colab": {
          "autoexec": {
            "startup": false,
            "wait_interval": 0
          }
        }
      },
      "cell_type": "code",
      "source": [
        "def create_baseline():\n",
        "    #create model\n",
        "    model = Sequential()\n",
        "    model.add(Dense(60, input_dim=60, kernel_initializer='normal', activation='relu'))\n",
        "    model.add(Dense(1, kernel_initializer='normal', activation='sigmoid'))\n",
        "    # Compile model\n",
        "    model.compile(loss='binary_crossentropy', optimizer='adam', metrics=['accuracy'])\n",
        "    return model"
      ],
      "execution_count": 0,
      "outputs": []
    },
    {
      "metadata": {
        "id": "WXyiRhDQviAD",
        "colab_type": "code",
        "colab": {
          "autoexec": {
            "startup": false,
            "wait_interval": 0
          },
          "base_uri": "https://localhost:8080/",
          "height": 35
        },
        "outputId": "80b07244-aaac-44b1-dcfa-6b8708985614",
        "executionInfo": {
          "status": "ok",
          "timestamp": 1531302776342,
          "user_tz": -300,
          "elapsed": 57325,
          "user": {
            "displayName": "Imtiaz Hussain",
            "photoUrl": "https://lh3.googleusercontent.com/a/default-user=s128",
            "userId": "111803115818273244172"
          }
        }
      },
      "cell_type": "code",
      "source": [
        "\n",
        "# evaluate model with standardized dataset\n",
        "estimator = KerasClassifier(build_fn=create_baseline, epochs=100, batch_size=5, verbose=0)\n",
        "kfold = StratifiedKFold(n_splits=10, shuffle=True, random_state=seed)\n",
        "results = cross_val_score(estimator, X, encoded_Y, cv=kfold)\n",
        "print(\"Results: %.2f%% (%.2f%%)\" % (results.mean()*100, results.std()*100))"
      ],
      "execution_count": 13,
      "outputs": [
        {
          "output_type": "stream",
          "text": [
            "Results: 82.09% (7.59%)\n"
          ],
          "name": "stdout"
        }
      ]
    },
    {
      "metadata": {
        "id": "bX2XUX1bwGD-",
        "colab_type": "code",
        "colab": {
          "autoexec": {
            "startup": false,
            "wait_interval": 0
          },
          "base_uri": "https://localhost:8080/",
          "height": 35
        },
        "outputId": "9d1bdad1-e2a5-44c9-ff2d-f5983b6955a6",
        "executionInfo": {
          "status": "ok",
          "timestamp": 1531303093688,
          "user_tz": -300,
          "elapsed": 201395,
          "user": {
            "displayName": "Imtiaz Hussain",
            "photoUrl": "https://lh3.googleusercontent.com/a/default-user=s128",
            "userId": "111803115818273244172"
          }
        }
      },
      "cell_type": "code",
      "source": [
        "# evaluate baseline model with standardized dataset\n",
        "np.random.seed(seed)\n",
        "estimators = []\n",
        "estimators.append(('standardize', StandardScaler()))\n",
        "estimators.append(('mlp', KerasClassifier(build_fn=create_baseline, epochs=100, batch_size=5, verbose=0)))\n",
        "pipeline = Pipeline(estimators)\n",
        "kfold = StratifiedKFold(n_splits=10, shuffle=True, random_state=seed)\n",
        "results = cross_val_score(pipeline, X, encoded_Y, cv=kfold)\n",
        "print(\"Standardized: %.2f%% (%.2f%%)\" % (results.mean()*100, results.std()*100))"
      ],
      "execution_count": 8,
      "outputs": [
        {
          "output_type": "stream",
          "text": [
            "Standardized: 85.54% (4.17%)\n"
          ],
          "name": "stdout"
        }
      ]
    },
    {
      "metadata": {
        "id": "AGxZJbwVw9LP",
        "colab_type": "code",
        "colab": {
          "autoexec": {
            "startup": false,
            "wait_interval": 0
          },
          "base_uri": "https://localhost:8080/",
          "height": 35
        },
        "outputId": "d900d6d7-02ea-4cf9-cad8-18991685b584",
        "executionInfo": {
          "status": "ok",
          "timestamp": 1531303303615,
          "user_tz": -300,
          "elapsed": 207372,
          "user": {
            "displayName": "Imtiaz Hussain",
            "photoUrl": "https://lh3.googleusercontent.com/a/default-user=s128",
            "userId": "111803115818273244172"
          }
        }
      },
      "cell_type": "code",
      "source": [
        "def create_smaller():\n",
        "    # create model\n",
        "    model = Sequential()\n",
        "    model.add(Dense(30, input_dim=60, kernel_initializer='normal', activation='relu'))\n",
        "    model.add(Dense(1, kernel_initializer='normal', activation='sigmoid'))\n",
        "    # Compile model\n",
        "    model.compile(loss='binary_crossentropy', optimizer='adam', metrics=['accuracy'])\n",
        "    return model\n",
        "estimators = []\n",
        "estimators.append(('standardize', StandardScaler()))\n",
        "estimators.append(('mlp', KerasClassifier(build_fn=create_smaller, epochs=100, batch_size=5, verbose=0)))\n",
        "pipeline = Pipeline(estimators)\n",
        "kfold = StratifiedKFold(n_splits=10, shuffle=True, random_state=seed)\n",
        "results = cross_val_score(pipeline, X, encoded_Y, cv=kfold)\n",
        "print(\"Smaller: %.2f%% (%.2f%%)\" % (results.mean()*100, results.std()*100))"
      ],
      "execution_count": 9,
      "outputs": [
        {
          "output_type": "stream",
          "text": [
            "Smaller: 85.52% (5.23%)\n"
          ],
          "name": "stdout"
        }
      ]
    },
    {
      "metadata": {
        "id": "xEqncXKwxLS_",
        "colab_type": "code",
        "colab": {
          "autoexec": {
            "startup": false,
            "wait_interval": 0
          },
          "base_uri": "https://localhost:8080/",
          "height": 35
        },
        "outputId": "0e8e02bc-9cc4-4112-8441-59bbab5783cd",
        "executionInfo": {
          "status": "ok",
          "timestamp": 1531303581332,
          "user_tz": -300,
          "elapsed": 277685,
          "user": {
            "displayName": "Imtiaz Hussain",
            "photoUrl": "https://lh3.googleusercontent.com/a/default-user=s128",
            "userId": "111803115818273244172"
          }
        }
      },
      "cell_type": "code",
      "source": [
        "# larger model\n",
        "def create_larger():\n",
        "    # create model\n",
        "    model = Sequential()\n",
        "    model.add(Dense(60, input_dim=60, kernel_initializer='normal', activation='relu'))\n",
        "    model.add(Dense(30, kernel_initializer='normal', activation='relu'))\n",
        "    model.add(Dense(1, kernel_initializer='normal', activation='sigmoid'))\n",
        "    # Compile model\n",
        "    model.compile(loss='binary_crossentropy', optimizer='adam', metrics=['accuracy'])\n",
        "    return model\n",
        "estimators = []\n",
        "estimators.append(('standardize', StandardScaler()))\n",
        "estimators.append(('mlp', KerasClassifier(build_fn=create_larger, epochs=100, batch_size=5, verbose=0)))\n",
        "pipeline = Pipeline(estimators)\n",
        "kfold = StratifiedKFold(n_splits=10, shuffle=True, random_state=seed)\n",
        "results = cross_val_score(pipeline, X, encoded_Y, cv=kfold)\n",
        "print(\"Larger: %.2f%% (%.2f%%)\" % (results.mean()*100, results.std()*100))"
      ],
      "execution_count": 10,
      "outputs": [
        {
          "output_type": "stream",
          "text": [
            "Larger: 86.97% (4.75%)\n"
          ],
          "name": "stdout"
        }
      ]
    },
    {
      "metadata": {
        "id": "bZvvFFCoxR-v",
        "colab_type": "code",
        "colab": {
          "autoexec": {
            "startup": false,
            "wait_interval": 0
          },
          "base_uri": "https://localhost:8080/",
          "height": 35
        },
        "outputId": "8adc0474-26f9-4115-b23b-6894be533917",
        "executionInfo": {
          "status": "ok",
          "timestamp": 1531307398984,
          "user_tz": -300,
          "elapsed": 601621,
          "user": {
            "displayName": "Imtiaz Hussain",
            "photoUrl": "https://lh3.googleusercontent.com/a/default-user=s128",
            "userId": "111803115818273244172"
          }
        }
      },
      "cell_type": "code",
      "source": [
        "#added_more_layers\n",
        "def add_layers():\n",
        "    # create model\n",
        "    model = Sequential()\n",
        "    model.add(Dense(60, input_dim=60, kernel_initializer='normal', activation='relu'))\n",
        "    model.add(Dense(30, kernel_initializer='normal', activation='relu'))\n",
        "    #added more layers\n",
        "    model.add(Dense(30, kernel_initializer='normal', activation='relu'))\n",
        "    model.add(Dense(15, kernel_initializer='normal', activation='relu'))\n",
        "    model.add(Dense(1, kernel_initializer='normal', activation='sigmoid'))\n",
        "    # Compile model\n",
        "    model.compile(loss='binary_crossentropy', optimizer='adam', metrics=['accuracy'])\n",
        "    return model\n",
        "estimators = []\n",
        "estimators.append(('standardize', StandardScaler()))\n",
        "estimators.append(('mlp', KerasClassifier(build_fn=add_layers, epochs=100, batch_size=5, verbose=0)))\n",
        "pipeline = Pipeline(estimators)\n",
        "kfold = StratifiedKFold(n_splits=10, shuffle=True, random_state=seed)\n",
        "results = cross_val_score(pipeline, X, encoded_Y, cv=kfold)\n",
        "print(\"add_layers: %.2f%% (%.2f%%)\" % (results.mean()*100, results.std()*100))"
      ],
      "execution_count": 15,
      "outputs": [
        {
          "output_type": "stream",
          "text": [
            "add_layers: 87.02% (5.66%)\n"
          ],
          "name": "stdout"
        }
      ]
    },
    {
      "metadata": {
        "id": "1CWfAcr9xXpv",
        "colab_type": "code",
        "colab": {
          "autoexec": {
            "startup": false,
            "wait_interval": 0
          },
          "base_uri": "https://localhost:8080/",
          "height": 35
        },
        "outputId": "b2d4ee75-6712-4036-f07b-f10bbaad440e",
        "executionInfo": {
          "status": "ok",
          "timestamp": 1531308725526,
          "user_tz": -300,
          "elapsed": 402081,
          "user": {
            "displayName": "Imtiaz Hussain",
            "photoUrl": "https://lh3.googleusercontent.com/a/default-user=s128",
            "userId": "111803115818273244172"
          }
        }
      },
      "cell_type": "code",
      "source": [
        "#added_layers_units\n",
        "def add_layer_units():\n",
        "    # create model\n",
        "    model = Sequential()\n",
        "    model.add(Dense(60, input_dim=60, kernel_initializer='normal', activation='relu'))\n",
        "    model.add(Dense(80, kernel_initializer='normal', activation='relu'))\n",
        "    #making layers unit bigger\n",
        "    model.add(Dense(80, kernel_initializer='normal', activation='relu'))\n",
        "    model.add(Dense(35, kernel_initializer='normal', activation='relu'))\n",
        "    model.add(Dense(1, kernel_initializer='normal', activation='sigmoid'))\n",
        "    # Compile model\n",
        "    model.compile(loss='binary_crossentropy', optimizer='adam', metrics=['accuracy'])\n",
        "    return model\n",
        "estimators = []\n",
        "estimators.append(('standardize', StandardScaler()))\n",
        "estimators.append(('mlp', KerasClassifier(build_fn=add_layer_units, epochs=100, batch_size=5, verbose=0)))\n",
        "pipeline = Pipeline(estimators)\n",
        "kfold = StratifiedKFold(n_splits=10, shuffle=True, random_state=seed)\n",
        "results = cross_val_score(pipeline, X, encoded_Y, cv=kfold)\n",
        "print(\"add_layer_units: %.2f%% (%.2f%%)\" % (results.mean()*100, results.std()*100))"
      ],
      "execution_count": 16,
      "outputs": [
        {
          "output_type": "stream",
          "text": [
            "add_layer_units: 85.02% (5.76%)\n"
          ],
          "name": "stdout"
        }
      ]
    },
    {
      "metadata": {
        "id": "sbL3kUVpxc9Q",
        "colab_type": "code",
        "colab": {
          "autoexec": {
            "startup": false,
            "wait_interval": 0
          },
          "base_uri": "https://localhost:8080/",
          "height": 35
        },
        "outputId": "2e361399-796f-429b-c9f2-77fbbc551ebd",
        "executionInfo": {
          "status": "ok",
          "timestamp": 1531310459579,
          "user_tz": -300,
          "elapsed": 737602,
          "user": {
            "displayName": "Imtiaz Hussain",
            "photoUrl": "https://lh3.googleusercontent.com/a/default-user=s128",
            "userId": "111803115818273244172"
          }
        }
      },
      "cell_type": "code",
      "source": [
        "# added_more_epochs\n",
        "def more_epochs():\n",
        "    # create model\n",
        "    model = Sequential()\n",
        "    model.add(Dense(60, input_dim=60, kernel_initializer='normal', activation='relu'))\n",
        "    model.add(Dense(30, kernel_initializer='normal', activation='relu'))\n",
        "    #added more layers\n",
        "    model.add(Dense(30, kernel_initializer='normal', activation='relu'))\n",
        "    model.add(Dense(15, kernel_initializer='normal', activation='relu'))\n",
        "    model.add(Dense(1, kernel_initializer='normal', activation='sigmoid'))\n",
        "    # Compile model\n",
        "    model.compile(loss='binary_crossentropy', optimizer='adam', metrics=['accuracy'])\n",
        "    return model\n",
        "estimators = []\n",
        "estimators.append(('standardize', StandardScaler()))\n",
        "#train data on more epochs \n",
        "estimators.append(('mlp', KerasClassifier(build_fn=more_epochs, epochs=200, batch_size=5, verbose=0)))\n",
        "pipeline = Pipeline(estimators)\n",
        "kfold = StratifiedKFold(n_splits=10, shuffle=True, random_state=seed)\n",
        "results = cross_val_score(pipeline, X, encoded_Y, cv=kfold)\n",
        "print(\"more_epochs: %.2f%% (%.2f%%)\" % (results.mean()*100, results.std()*100))"
      ],
      "execution_count": 17,
      "outputs": [
        {
          "output_type": "stream",
          "text": [
            "more_epochs: 83.59% (5.70%)\n"
          ],
          "name": "stdout"
        }
      ]
    },
    {
      "metadata": {
        "id": "AcWkJ4iHxiSQ",
        "colab_type": "code",
        "colab": {
          "autoexec": {
            "startup": false,
            "wait_interval": 0
          },
          "base_uri": "https://localhost:8080/",
          "height": 3590
        },
        "outputId": "ec9f5355-b971-4fc3-e362-5ccd64741a1c",
        "executionInfo": {
          "status": "ok",
          "timestamp": 1531310870382,
          "user_tz": -300,
          "elapsed": 373522,
          "user": {
            "displayName": "Imtiaz Hussain",
            "photoUrl": "https://lh3.googleusercontent.com/a/default-user=s128",
            "userId": "111803115818273244172"
          }
        }
      },
      "cell_type": "code",
      "source": [
        "from keras.layers import Input, Dense\n",
        "from keras.models import Model\n",
        "from keras.utils import to_categorical\n",
        "\n",
        "# By using functional API\n",
        "def funcational_API():\n",
        "    # Multilayer Perceptron\n",
        "    visible = Input(shape=(60,))\n",
        "    hidden1 = Dense(80, activation='relu')(visible)\n",
        "    hidden2 = Dense(75, activation='relu')(hidden1)\n",
        "    hidden3 = Dense(70, activation='relu')(hidden2)\n",
        "    output = Dense(1, activation='sigmoid')(hidden3)\n",
        "    model = Model(inputs=visible, outputs=output)\n",
        "    model.compile(optimizer='rmsprop', loss='binary_crossentropy',metrics=['accuracy'])\n",
        "    model.fit(X, encoded_Y, epochs=10, batch_size=20)\n",
        "    # summarize layers\n",
        "    #print(model.summary())\n",
        "    return model\n",
        "estimators = []\n",
        "estimators.append(('standardize', StandardScaler()))\n",
        "#train data on more epochs \n",
        "estimators.append(('mlp', KerasClassifier(build_fn=funcational_API, epochs=100, batch_size=5, verbose=0)))\n",
        "pipeline = Pipeline(estimators)\n",
        "kfold = StratifiedKFold(n_splits=10, shuffle=True, random_state=seed)\n",
        "results = cross_val_score(pipeline, X, encoded_Y, cv=kfold)\n",
        "print(\"Functional_API: %.2f%% (%.2f%%)\" % (results.mean()*100, results.std()*100))"
      ],
      "execution_count": 18,
      "outputs": [
        {
          "output_type": "stream",
          "text": [
            "Epoch 1/10\n",
            "207/207 [==============================] - 6s 30ms/step - loss: 0.6809 - acc: 0.5700\n",
            "Epoch 2/10\n",
            "207/207 [==============================] - 0s 446us/step - loss: 0.6428 - acc: 0.6425\n",
            "Epoch 3/10\n",
            "207/207 [==============================] - 0s 453us/step - loss: 0.6136 - acc: 0.6812\n",
            "Epoch 4/10\n",
            "207/207 [==============================] - 0s 451us/step - loss: 0.5606 - acc: 0.7585\n",
            "Epoch 5/10\n",
            "207/207 [==============================] - 0s 482us/step - loss: 0.5180 - acc: 0.7585\n",
            "Epoch 6/10\n",
            "207/207 [==============================] - 0s 450us/step - loss: 0.4951 - acc: 0.7633\n",
            "Epoch 7/10\n",
            "207/207 [==============================] - 0s 480us/step - loss: 0.4669 - acc: 0.8116\n",
            "Epoch 8/10\n",
            "207/207 [==============================] - 0s 452us/step - loss: 0.4313 - acc: 0.8116\n",
            "Epoch 9/10\n",
            "207/207 [==============================] - 0s 428us/step - loss: 0.4015 - acc: 0.8164\n",
            "Epoch 10/10\n",
            "207/207 [==============================] - 0s 417us/step - loss: 0.3878 - acc: 0.8309\n",
            "Epoch 1/10\n",
            "207/207 [==============================] - 6s 31ms/step - loss: 0.6853 - acc: 0.5362\n",
            "Epoch 2/10\n",
            "207/207 [==============================] - 0s 423us/step - loss: 0.6377 - acc: 0.6667\n",
            "Epoch 3/10\n",
            "207/207 [==============================] - 0s 439us/step - loss: 0.5978 - acc: 0.7005\n",
            "Epoch 4/10\n",
            "207/207 [==============================] - 0s 419us/step - loss: 0.5567 - acc: 0.7198\n",
            "Epoch 5/10\n",
            "207/207 [==============================] - 0s 451us/step - loss: 0.5247 - acc: 0.7488\n",
            "Epoch 6/10\n",
            "207/207 [==============================] - 0s 423us/step - loss: 0.5073 - acc: 0.7536\n",
            "Epoch 7/10\n",
            "207/207 [==============================] - 0s 411us/step - loss: 0.4772 - acc: 0.8068\n",
            "Epoch 8/10\n",
            "207/207 [==============================] - 0s 434us/step - loss: 0.4281 - acc: 0.8309\n",
            "Epoch 9/10\n",
            "207/207 [==============================] - 0s 479us/step - loss: 0.4162 - acc: 0.8116\n",
            "Epoch 10/10\n",
            "207/207 [==============================] - 0s 430us/step - loss: 0.4259 - acc: 0.8068\n",
            "Epoch 1/10\n",
            "207/207 [==============================] - 6s 31ms/step - loss: 0.6704 - acc: 0.5894\n",
            "Epoch 2/10\n",
            "207/207 [==============================] - 0s 455us/step - loss: 0.6187 - acc: 0.6570\n",
            "Epoch 3/10\n",
            "207/207 [==============================] - 0s 438us/step - loss: 0.5815 - acc: 0.7101\n",
            "Epoch 4/10\n",
            "207/207 [==============================] - 0s 473us/step - loss: 0.5694 - acc: 0.6667\n",
            "Epoch 5/10\n"
          ],
          "name": "stdout"
        },
        {
          "output_type": "stream",
          "text": [
            "207/207 [==============================] - 0s 435us/step - loss: 0.5526 - acc: 0.7101\n",
            "Epoch 6/10\n",
            "207/207 [==============================] - 0s 449us/step - loss: 0.5118 - acc: 0.7246\n",
            "Epoch 7/10\n",
            "207/207 [==============================] - 0s 446us/step - loss: 0.4635 - acc: 0.7778\n",
            "Epoch 8/10\n",
            "207/207 [==============================] - 0s 482us/step - loss: 0.4681 - acc: 0.7729\n",
            "Epoch 9/10\n",
            "207/207 [==============================] - 0s 436us/step - loss: 0.4861 - acc: 0.7343\n",
            "Epoch 10/10\n",
            "207/207 [==============================] - 0s 431us/step - loss: 0.4226 - acc: 0.8019\n",
            "Epoch 1/10\n",
            "207/207 [==============================] - 7s 31ms/step - loss: 0.6804 - acc: 0.5604\n",
            "Epoch 2/10\n",
            "207/207 [==============================] - 0s 443us/step - loss: 0.6482 - acc: 0.6957\n",
            "Epoch 3/10\n",
            "207/207 [==============================] - 0s 466us/step - loss: 0.6052 - acc: 0.7005\n",
            "Epoch 4/10\n",
            "207/207 [==============================] - 0s 472us/step - loss: 0.5582 - acc: 0.7488\n",
            "Epoch 5/10\n",
            "207/207 [==============================] - 0s 459us/step - loss: 0.5476 - acc: 0.6908\n",
            "Epoch 6/10\n",
            "207/207 [==============================] - 0s 452us/step - loss: 0.4958 - acc: 0.7585\n",
            "Epoch 7/10\n",
            "207/207 [==============================] - 0s 441us/step - loss: 0.4788 - acc: 0.8019\n",
            "Epoch 8/10\n",
            "207/207 [==============================] - 0s 471us/step - loss: 0.4628 - acc: 0.7585\n",
            "Epoch 9/10\n",
            "207/207 [==============================] - 0s 421us/step - loss: 0.4279 - acc: 0.8213\n",
            "Epoch 10/10\n",
            "207/207 [==============================] - 0s 428us/step - loss: 0.4303 - acc: 0.8019\n",
            "Epoch 1/10\n",
            "207/207 [==============================] - 7s 31ms/step - loss: 0.6853 - acc: 0.5411\n",
            "Epoch 2/10\n",
            "207/207 [==============================] - 0s 425us/step - loss: 0.6559 - acc: 0.6135\n",
            "Epoch 3/10\n",
            "207/207 [==============================] - 0s 426us/step - loss: 0.6231 - acc: 0.6957\n",
            "Epoch 4/10\n",
            "207/207 [==============================] - 0s 433us/step - loss: 0.5897 - acc: 0.7343\n",
            "Epoch 5/10\n",
            "207/207 [==============================] - 0s 454us/step - loss: 0.5600 - acc: 0.7633\n",
            "Epoch 6/10\n",
            "207/207 [==============================] - 0s 438us/step - loss: 0.5389 - acc: 0.7536\n",
            "Epoch 7/10\n",
            "207/207 [==============================] - 0s 428us/step - loss: 0.5150 - acc: 0.7923\n",
            "Epoch 8/10\n",
            "207/207 [==============================] - 0s 425us/step - loss: 0.4812 - acc: 0.7923\n"
          ],
          "name": "stdout"
        },
        {
          "output_type": "stream",
          "text": [
            "Epoch 9/10\n",
            "207/207 [==============================] - 0s 465us/step - loss: 0.4674 - acc: 0.7778\n",
            "Epoch 10/10\n",
            "207/207 [==============================] - 0s 415us/step - loss: 0.4473 - acc: 0.8309\n",
            "Epoch 1/10\n",
            "207/207 [==============================] - 7s 32ms/step - loss: 0.6833 - acc: 0.5652\n",
            "Epoch 2/10\n",
            "207/207 [==============================] - 0s 414us/step - loss: 0.6472 - acc: 0.6715\n",
            "Epoch 3/10\n",
            "207/207 [==============================] - 0s 452us/step - loss: 0.6108 - acc: 0.6860\n",
            "Epoch 4/10\n",
            "207/207 [==============================] - 0s 472us/step - loss: 0.5668 - acc: 0.7778\n",
            "Epoch 5/10\n",
            "207/207 [==============================] - 0s 450us/step - loss: 0.5348 - acc: 0.7536\n",
            "Epoch 6/10\n",
            "207/207 [==============================] - 0s 434us/step - loss: 0.4873 - acc: 0.8019\n",
            "Epoch 7/10\n",
            "207/207 [==============================] - 0s 422us/step - loss: 0.4741 - acc: 0.7729\n",
            "Epoch 8/10\n",
            "207/207 [==============================] - 0s 474us/step - loss: 0.4498 - acc: 0.8019\n",
            "Epoch 9/10\n",
            "207/207 [==============================] - 0s 459us/step - loss: 0.4341 - acc: 0.7971\n",
            "Epoch 10/10\n",
            "207/207 [==============================] - 0s 470us/step - loss: 0.4054 - acc: 0.8261\n",
            "Epoch 1/10\n",
            "207/207 [==============================] - 7s 32ms/step - loss: 0.6825 - acc: 0.5845\n",
            "Epoch 2/10\n",
            "207/207 [==============================] - 0s 421us/step - loss: 0.6513 - acc: 0.6377\n",
            "Epoch 3/10\n",
            "207/207 [==============================] - 0s 436us/step - loss: 0.6246 - acc: 0.6860\n",
            "Epoch 4/10\n",
            "207/207 [==============================] - 0s 449us/step - loss: 0.5858 - acc: 0.7053\n",
            "Epoch 5/10\n",
            "207/207 [==============================] - 0s 417us/step - loss: 0.5460 - acc: 0.8019\n",
            "Epoch 6/10\n",
            "207/207 [==============================] - 0s 447us/step - loss: 0.5132 - acc: 0.7874\n",
            "Epoch 7/10\n",
            "207/207 [==============================] - 0s 437us/step - loss: 0.5004 - acc: 0.7633\n",
            "Epoch 8/10\n",
            "207/207 [==============================] - 0s 460us/step - loss: 0.4469 - acc: 0.8116\n",
            "Epoch 9/10\n",
            "207/207 [==============================] - 0s 443us/step - loss: 0.4369 - acc: 0.7971\n",
            "Epoch 10/10\n",
            "207/207 [==============================] - 0s 439us/step - loss: 0.4385 - acc: 0.7729\n",
            "Epoch 1/10\n",
            "207/207 [==============================] - 7s 33ms/step - loss: 0.6605 - acc: 0.5942\n",
            "Epoch 2/10\n",
            "207/207 [==============================] - 0s 443us/step - loss: 0.6143 - acc: 0.6715\n"
          ],
          "name": "stdout"
        },
        {
          "output_type": "stream",
          "text": [
            "Epoch 3/10\n",
            "207/207 [==============================] - 0s 426us/step - loss: 0.5518 - acc: 0.7874\n",
            "Epoch 4/10\n",
            "207/207 [==============================] - 0s 408us/step - loss: 0.5295 - acc: 0.7585\n",
            "Epoch 5/10\n",
            "207/207 [==============================] - 0s 439us/step - loss: 0.4953 - acc: 0.7778\n",
            "Epoch 6/10\n",
            "207/207 [==============================] - 0s 428us/step - loss: 0.4760 - acc: 0.7826\n",
            "Epoch 7/10\n",
            "207/207 [==============================] - 0s 411us/step - loss: 0.4565 - acc: 0.7778\n",
            "Epoch 8/10\n",
            "207/207 [==============================] - 0s 420us/step - loss: 0.4237 - acc: 0.8213\n",
            "Epoch 9/10\n",
            "207/207 [==============================] - 0s 465us/step - loss: 0.4034 - acc: 0.8454\n",
            "Epoch 10/10\n",
            "207/207 [==============================] - 0s 452us/step - loss: 0.4262 - acc: 0.8164\n",
            "Epoch 1/10\n",
            "207/207 [==============================] - 7s 33ms/step - loss: 0.6787 - acc: 0.5797\n",
            "Epoch 2/10\n",
            "207/207 [==============================] - 0s 423us/step - loss: 0.6426 - acc: 0.6377\n",
            "Epoch 3/10\n",
            "207/207 [==============================] - 0s 420us/step - loss: 0.6111 - acc: 0.6715\n",
            "Epoch 4/10\n",
            "207/207 [==============================] - 0s 428us/step - loss: 0.5720 - acc: 0.6957\n",
            "Epoch 5/10\n",
            "207/207 [==============================] - 0s 444us/step - loss: 0.5306 - acc: 0.7295\n",
            "Epoch 6/10\n",
            "207/207 [==============================] - 0s 419us/step - loss: 0.5050 - acc: 0.7488\n",
            "Epoch 7/10\n",
            "207/207 [==============================] - 0s 443us/step - loss: 0.4586 - acc: 0.7874\n",
            "Epoch 8/10\n",
            "207/207 [==============================] - 0s 451us/step - loss: 0.4564 - acc: 0.7874\n",
            "Epoch 9/10\n",
            "207/207 [==============================] - 0s 462us/step - loss: 0.4299 - acc: 0.8164\n",
            "Epoch 10/10\n",
            "207/207 [==============================] - 0s 446us/step - loss: 0.4325 - acc: 0.7633\n",
            "Epoch 1/10\n",
            "207/207 [==============================] - 7s 33ms/step - loss: 0.6817 - acc: 0.5266\n",
            "Epoch 2/10\n",
            "207/207 [==============================] - 0s 430us/step - loss: 0.6582 - acc: 0.6425\n",
            "Epoch 3/10\n",
            "207/207 [==============================] - 0s 428us/step - loss: 0.6272 - acc: 0.6763\n",
            "Epoch 4/10\n",
            "207/207 [==============================] - 0s 450us/step - loss: 0.5919 - acc: 0.6957\n",
            "Epoch 5/10\n",
            "207/207 [==============================] - 0s 461us/step - loss: 0.5606 - acc: 0.7246\n",
            "Epoch 6/10\n",
            "207/207 [==============================] - 0s 455us/step - loss: 0.5168 - acc: 0.7536\n",
            "Epoch 7/10\n"
          ],
          "name": "stdout"
        },
        {
          "output_type": "stream",
          "text": [
            "207/207 [==============================] - 0s 446us/step - loss: 0.4992 - acc: 0.7826\n",
            "Epoch 8/10\n",
            "207/207 [==============================] - 0s 429us/step - loss: 0.4698 - acc: 0.7633\n",
            "Epoch 9/10\n",
            "207/207 [==============================] - 0s 460us/step - loss: 0.4367 - acc: 0.8213\n",
            "Epoch 10/10\n",
            "207/207 [==============================] - 0s 408us/step - loss: 0.4062 - acc: 0.8164\n",
            "Functional_API: 86.97% (6.76%)\n"
          ],
          "name": "stdout"
        }
      ]
    },
    {
      "metadata": {
        "id": "CyWAccsRxpSw",
        "colab_type": "code",
        "colab": {
          "autoexec": {
            "startup": false,
            "wait_interval": 0
          },
          "base_uri": "https://localhost:8080/",
          "height": 35
        },
        "outputId": "20c75722-a92d-4be5-bf2d-83ad21593345",
        "executionInfo": {
          "status": "ok",
          "timestamp": 1531311369711,
          "user_tz": -300,
          "elapsed": 8482,
          "user": {
            "displayName": "Imtiaz Hussain",
            "photoUrl": "https://lh3.googleusercontent.com/a/default-user=s128",
            "userId": "111803115818273244172"
          }
        }
      },
      "cell_type": "code",
      "source": [
        "import tensorflow as tf\n",
        "import keras\n",
        "class MyModel(tf.keras.Model):\n",
        "    \n",
        "        def __init__(self):\n",
        "            super(MyModel, self).__init__()\n",
        "            self.dense1= Dense(70, activation='relu')\n",
        "            self.dense2= Dense(50, activation='relu')\n",
        "            self.dense3 = Dense(1, activation='sigmoid')\n",
        "\n",
        "        def call(self, inputs):\n",
        "            x = self.dense1(inputs)\n",
        "            x = self.dense2(x)\n",
        "            return self.dense3(x)\n",
        "                        \n",
        "                    \n",
        "model = MyModel()\n",
        "model.compile(loss='categorical_crossentropy', optimizer='adam',   metrics=['accuracy'])\n",
        "history=model.fit(X,encoded_Y, epochs=100,batch_size=50,verbose=False)\n",
        "history_dict = history.history\n",
        "history_dict.keys()\n",
        "acc_values = history_dict['acc']\n",
        "print(\"Result: %.2f%% (%.2f%%)\" % (np.mean(acc_values)*100, np.std(acc_values)*100))\n",
        "\n"
      ],
      "execution_count": 29,
      "outputs": [
        {
          "output_type": "stream",
          "text": [
            "Result: 53.62% (0.00%)\n"
          ],
          "name": "stdout"
        }
      ]
    },
    {
      "metadata": {
        "id": "2ZDukzqmx2fA",
        "colab_type": "code",
        "colab": {
          "autoexec": {
            "startup": false,
            "wait_interval": 0
          },
          "base_uri": "https://localhost:8080/",
          "height": 212
        },
        "outputId": "3b28541b-297c-4b73-98ba-6b3a5ee3fbe0",
        "executionInfo": {
          "status": "ok",
          "timestamp": 1531338450209,
          "user_tz": -300,
          "elapsed": 521715,
          "user": {
            "displayName": "Imtiaz Hussain",
            "photoUrl": "https://lh3.googleusercontent.com/a/default-user=s128",
            "userId": "111803115818273244172"
          }
        }
      },
      "cell_type": "code",
      "source": [
        "from keras import models\n",
        "from keras import layers\n",
        "def build_model():\n",
        "    # create model\n",
        "    model = Sequential()\n",
        "    model.add(Dense(100, input_dim=60, kernel_initializer='normal' ,activation='relu'))\n",
        "    model.add(Dense(70,  kernel_initializer='normal' ,activation='relu'))\n",
        "    model.add(Dense(1,kernel_initializer='normal', activation='sigmoid'))\n",
        "    # Compile model\n",
        "    model.compile(loss='binary_crossentropy', optimizer='adam', metrics=['accuracy'])\n",
        "    \n",
        "    return model\n",
        "k=10\n",
        "num_val_samples = len(X) // k\n",
        "num_epochs = 100\n",
        "all_scores = []\n",
        "\n",
        "for i in range(k):\n",
        "    print('processing fold #', i)\n",
        "    val_data = X[i * num_val_samples: (i + 1) * num_val_samples]\n",
        "    val_targets = encoded_Y[i * num_val_samples: (i + 1) * num_val_samples]\n",
        "#     print(val_data,val_targets)\n",
        "    partial_train_data =np.concatenate([X[:i * num_val_samples],X[(i + 1) * num_val_samples:]],axis=0)\n",
        "    partial_train_targets =np.concatenate([encoded_Y[:i * num_val_samples],encoded_Y[(i + 1) * num_val_samples:]],axis=0)\n",
        "    model = build_model()\n",
        "    model.fit(partial_train_data, partial_train_targets,epochs=num_epochs, batch_size=5, verbose=0)\n",
        "    val_mse, val_mae = model.evaluate(val_data, val_targets, verbose=0)\n",
        "    all_scores.append(val_mae)\n",
        "print(\"Result: %.2f%% (%.2f%%)\" % (np.mean(all_scores)*100, np.std(all_scores)*100))\n"
      ],
      "execution_count": 8,
      "outputs": [
        {
          "output_type": "stream",
          "text": [
            "processing fold # 0\n",
            "processing fold # 1\n",
            "processing fold # 2\n",
            "processing fold # 3\n",
            "processing fold # 4\n",
            "processing fold # 5\n",
            "processing fold # 6\n",
            "processing fold # 7\n",
            "processing fold # 8\n",
            "processing fold # 9\n",
            "Result: 62.50% (17.50%)\n"
          ],
          "name": "stdout"
        }
      ]
    },
    {
      "metadata": {
        "id": "-JjzOy1eCOkV",
        "colab_type": "code",
        "colab": {
          "autoexec": {
            "startup": false,
            "wait_interval": 0
          },
          "base_uri": "https://localhost:8080/",
          "height": 37
        },
        "outputId": "d04a8e08-ba2c-4da2-d6d1-4d5c9004efb6",
        "executionInfo": {
          "status": "ok",
          "timestamp": 1531311946728,
          "user_tz": -300,
          "elapsed": 1518,
          "user": {
            "displayName": "Imtiaz Hussain",
            "photoUrl": "https://lh3.googleusercontent.com/a/default-user=s128",
            "userId": "111803115818273244172"
          }
        }
      },
      "cell_type": "code",
      "source": [
        "# Data Normalizing\n",
        "mean=X.mean(axis=0)\n",
        "X-=mean\n",
        "std=X.std(axis=0)\n",
        "X/=std"
      ],
      "execution_count": 32,
      "outputs": []
    },
    {
      "metadata": {
        "id": "lgF7KhoACWPd",
        "colab_type": "code",
        "colab": {
          "autoexec": {
            "startup": false,
            "wait_interval": 0
          },
          "base_uri": "https://localhost:8080/",
          "height": 212
        },
        "outputId": "86336acb-97ed-4c64-abde-a7b52a4c1c2c",
        "executionInfo": {
          "status": "ok",
          "timestamp": 1531312774685,
          "user_tz": -300,
          "elapsed": 402101,
          "user": {
            "displayName": "Imtiaz Hussain",
            "photoUrl": "https://lh3.googleusercontent.com/a/default-user=s128",
            "userId": "111803115818273244172"
          }
        }
      },
      "cell_type": "code",
      "source": [
        "from keras import models\n",
        "from keras import layers\n",
        "def build_model():\n",
        "    # create model\n",
        "    model = Sequential()\n",
        "    model.add(Dense(100, input_dim=60, kernel_initializer='normal' ,activation='relu'))\n",
        "    model.add(Dense(70,  kernel_initializer='normal' ,activation='relu'))\n",
        "    model.add(Dense(1,kernel_initializer='normal', activation='sigmoid'))\n",
        "    # Compile model\n",
        "    model.compile(loss='binary_crossentropy', optimizer='adam', metrics=['accuracy'])\n",
        "    \n",
        "    return model\n",
        "k=10\n",
        "num_val_samples = len(X) // k\n",
        "num_epochs = 100\n",
        "all_scores = []\n",
        "\n",
        "for i in range(k):\n",
        "    print('processing fold #', i)\n",
        "    val_data = X[i * num_val_samples: (i + 1) * num_val_samples]\n",
        "    val_targets = encoded_Y[i * num_val_samples: (i + 1) * num_val_samples]\n",
        "#     print(val_data,val_targets)\n",
        "    partial_train_data = np.concatenate([X[:i * num_val_samples],X[(i + 1) * num_val_samples:]],axis=0)\n",
        "    partial_train_targets = np.concatenate([encoded_Y[:i * num_val_samples],encoded_Y[(i + 1) * num_val_samples:]],axis=0)\n",
        "    model = build_model()\n",
        "    model.fit(partial_train_data, partial_train_targets,epochs=num_epochs, batch_size=5, verbose=0)\n",
        "    val_mse, val_mae = model.evaluate(val_data, val_targets, verbose=0)\n",
        "    all_scores.append(val_mae)\n",
        "print(\"Result: %.2f%% (%.2f%%)\" % (np.mean(all_scores)*100, np.std(all_scores)*100))"
      ],
      "execution_count": 35,
      "outputs": [
        {
          "output_type": "stream",
          "text": [
            "processing fold # 0\n",
            "processing fold # 1\n",
            "processing fold # 2\n",
            "processing fold # 3\n",
            "processing fold # 4\n",
            "processing fold # 5\n",
            "processing fold # 6\n",
            "processing fold # 7\n",
            "processing fold # 8\n",
            "processing fold # 9\n",
            "Result: 65.00% (17.61%)\n"
          ],
          "name": "stdout"
        }
      ]
    },
    {
      "metadata": {
        "id": "_QjLo6FSThI5",
        "colab_type": "code",
        "colab": {
          "autoexec": {
            "startup": false,
            "wait_interval": 0
          }
        }
      },
      "cell_type": "code",
      "source": [
        ""
      ],
      "execution_count": 0,
      "outputs": []
    }
  ]
}